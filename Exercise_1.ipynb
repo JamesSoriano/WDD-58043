{
  "nbformat": 4,
  "nbformat_minor": 0,
  "metadata": {
    "colab": {
      "name": "Exercise 1",
      "provenance": [],
      "authorship_tag": "ABX9TyNdQVQTDovd5K9wRvuO0We0",
      "include_colab_link": true
    },
    "kernelspec": {
      "name": "python3",
      "display_name": "Python 3"
    },
    "language_info": {
      "name": "python"
    }
  },
  "cells": [
    {
      "cell_type": "markdown",
      "metadata": {
        "id": "view-in-github",
        "colab_type": "text"
      },
      "source": [
        "<a href=\"https://colab.research.google.com/github/JamesSoriano/WEB-DESIGN-AND-DEVELOPMENT-LAB-58043/blob/main/Exercise_1.ipynb\" target=\"_parent\"><img src=\"https://colab.research.google.com/assets/colab-badge.svg\" alt=\"Open In Colab\"/></a>"
      ]
    },
    {
      "cell_type": "code",
      "execution_count": 11,
      "metadata": {
        "colab": {
          "base_uri": "https://localhost:8080/"
        },
        "id": "8FkgOPGJW4d2",
        "outputId": "ce0455ac-f6af-45ec-ae01-7cb779aaf17e"
      },
      "outputs": [
        {
          "output_type": "stream",
          "name": "stdout",
          "text": [
            "Enter the radius of the circle: 12\n",
            "The area of the given circle is:  452.15999999999997\n"
          ]
        }
      ],
      "source": [
        "import numpy as np\n",
        "\n",
        "π = 3.14 #pi value\n",
        "\n",
        "Radius = float (input (\"Enter the radius of the circle: \")) #value of radius\n",
        "\n",
        "Area = π * Radius * Radius #formula for area of the circle\n",
        "\n",
        "print (\"The area of the given circle is: \", Area)"
      ]
    },
    {
      "cell_type": "code",
      "source": [
        "π = 3.14 #pi value\n",
        "\n",
        "Diameter = float (input (\"Enter the diameter of the circle: \"))  #value of diameter\n",
        "\n",
        "Area = (π / 4) * Diameter * Diameter #formula for area of the circle\n",
        "\n",
        "print (\"The area of the given circle is: \", Area)  "
      ],
      "metadata": {
        "colab": {
          "base_uri": "https://localhost:8080/"
        },
        "id": "mK1tq4LfmDPj",
        "outputId": "18b16aee-dccb-45f8-d726-e3d72fc58b95"
      },
      "execution_count": 12,
      "outputs": [
        {
          "output_type": "stream",
          "name": "stdout",
          "text": [
            "Enter the diameter of the circle: 13\n",
            "The area of the given circle is:  132.665\n"
          ]
        }
      ]
    }
  ]
}